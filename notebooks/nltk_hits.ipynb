{
 "cells": [
  {
   "cell_type": "code",
   "execution_count": 1,
   "metadata": {},
   "outputs": [],
   "source": [
    "import glob\n",
    "import json\n",
    "import os\n",
    "\n",
    "from iexfinance.stocks import Stock\n",
    "import matplotlib.pyplot as plt\n",
    "from nltk.tokenize import word_tokenize\n",
    "import pandas as pd"
   ]
  },
  {
   "cell_type": "code",
   "execution_count": 45,
   "metadata": {},
   "outputs": [],
   "source": [
    "df = pd.read_csv(\"data/reddit_submissions/all_submissions.csv\", usecols=['selftext']).dropna(subset=['selftext'])\n",
    "popularity = pd.read_csv(\"average_popularity.csv\")\n",
    "top_2000 = popularity.sort_values(by=[\"Average_Popularity\"], ascending=False)['Ticker'][0:2000]\n",
    "top_2000 = set(map(lambda x: x.lower(), top_2000))"
   ]
  },
  {
   "cell_type": "code",
   "execution_count": 46,
   "metadata": {},
   "outputs": [
    {
     "name": "stdout",
     "output_type": "stream",
     "text": [
      "106259\n"
     ]
    }
   ],
   "source": [
    "tickers = set(list(map(lambda x: x.split('/')[-1].split('.')[0].lower(), glob.glob(\"data/popularity_export/*.csv\"))))\n",
    "df = df[df['selftext'] != \"[deleted]\"]\n",
    "df = df[df['selftext'] != \"[removed]\"]\n",
    "df['text'] = df['selftext'].apply(lambda x: x.lower())\n",
    "df['text2'] = df['text'].apply(lambda x: x.replace(\"\\n\", \"\"))\n",
    "print(len(df))"
   ]
  },
  {
   "cell_type": "code",
   "execution_count": 47,
   "metadata": {},
   "outputs": [],
   "source": [
    "total_hits = 0\n",
    "single_hits = 0\n",
    "for i in df['text2']:\n",
    "    tokens = word_tokenize(i.lower())\n",
    "    found = False\n",
    "    for t in tokens:\n",
    "        if t in top_2000:\n",
    "            found = True\n",
    "            total_hits += 1\n",
    "    if found:\n",
    "        single_hits += 1\n"
   ]
  },
  {
   "cell_type": "code",
   "execution_count": 48,
   "metadata": {},
   "outputs": [
    {
     "name": "stdout",
     "output_type": "stream",
     "text": [
      "1111726\n",
      "94211\n"
     ]
    }
   ],
   "source": [
    "print(total_hits)\n",
    "print(single_hits)"
   ]
  },
  {
   "cell_type": "code",
   "execution_count": null,
   "metadata": {},
   "outputs": [],
   "source": []
  }
 ],
 "metadata": {
  "kernelspec": {
   "display_name": "Python 3",
   "language": "python",
   "name": "python3"
  },
  "language_info": {
   "codemirror_mode": {
    "name": "ipython",
    "version": 3
   },
   "file_extension": ".py",
   "mimetype": "text/x-python",
   "name": "python",
   "nbconvert_exporter": "python",
   "pygments_lexer": "ipython3",
   "version": "3.7.7"
  }
 },
 "nbformat": 4,
 "nbformat_minor": 4
}
