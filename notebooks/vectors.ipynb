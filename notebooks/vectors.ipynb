{
 "cells": [
  {
   "cell_type": "code",
   "execution_count": 15,
   "metadata": {},
   "outputs": [],
   "source": [
    "import numpy as np\n",
    "import pandas as pd\n",
    "import sense2vec"
   ]
  },
  {
   "cell_type": "code",
   "execution_count": 94,
   "metadata": {},
   "outputs": [
    {
     "name": "stderr",
     "output_type": "stream",
     "text": [
      "/Users/dclark171/opt/anaconda3/envs/capstone/lib/python3.7/site-packages/IPython/core/interactiveshell.py:3146: DtypeWarning: Columns (1,2,10,11,20,23,35,63,71,72,77,84,85,86,87,89,90,91,92,93,94,95,97,100,101,103,104,105,106,108,110) have mixed types.Specify dtype option on import or set low_memory=False.\n",
      "  interactivity=interactivity, compiler=compiler, result=result)\n",
      "/Users/dclark171/opt/anaconda3/envs/capstone/lib/python3.7/site-packages/ipykernel_launcher.py:2: UserWarning: Boolean Series key will be reindexed to match DataFrame index.\n",
      "  \n"
     ]
    }
   ],
   "source": [
    "df = pd.read_csv(\"/Users/dclark171/projects/python/retailMarketAnalysis/data/reddit_submissions/all_submissions.csv\")\n",
    "df = df.dropna(subset=['selftext'])[df['selftext'] != '[removed]'][df['selftext'] != '[deleted]']\n",
    "\n",
    "df['selftext'] = df['selftext'].apply(lambda x: x.replace(\"\\n\", \"\"))\n"
   ]
  },
  {
   "cell_type": "code",
   "execution_count": 93,
   "metadata": {},
   "outputs": [
    {
     "data": {
      "text/plain": [
       "'JPOW was able to save the US equity markets alone and spurred a 30% rally from the market\\'s March bottom, and yet a historic agreement by 20+ nations (OPEC+) doesn\\'t seem to be doing shit about oil\\'s decline. As of the time of this post, crude oil is trading tonight at around $24, barely up 5% from Thursday\\'s close after a historic production cut was reached globally earlier this afternoon. What an AMAZING relief rally to witness tonight after oil was trading as low as $19 at the end of March. And sure, this deal was \"already priced in\" from Trump\\'s tweet last weekend, but it\\'s funny how our market rallies on both the rumor and the news with government stimulus &amp; JPOW, yet oil gets dumped after the deal is finalized.So I guess the lessons I have learned this month are that even if an economy can be completely shut down with 16 million unemployed &amp; tens of thousands of small businesses that will never recover, the central bank can manipulate its market all day long with ease; but the painfully obvious future supply and demand dynamics of commodities just can\\'t be fucked with no matter how much the global economy tries. TLDR: I bought 5/1 $7 USO calls and I\\'m cucked, oh and SPY is still on track to reach 300 by eom'"
      ]
     },
     "execution_count": 93,
     "metadata": {},
     "output_type": "execute_result"
    }
   ],
   "source": [
    "df.sample(frac=1)['selftext'][2]"
   ]
  },
  {
   "cell_type": "code",
   "execution_count": 33,
   "metadata": {},
   "outputs": [
    {
     "data": {
      "text/plain": [
       "'<map object at 0x7fcd7bd93050>'"
      ]
     },
     "execution_count": 33,
     "metadata": {},
     "output_type": "execute_result"
    }
   ],
   "source": [
    "str(map(lambda x: x.replace(\"\\'\", \"'\"), r))"
   ]
  },
  {
   "cell_type": "code",
   "execution_count": 95,
   "metadata": {},
   "outputs": [],
   "source": [
    "np.savetxt(r'../../data/reddit_submissions/filtered_submissions.txt', df.sample(frac=1)['selftext'].values, fmt='%s')\n"
   ]
  },
  {
   "cell_type": "code",
   "execution_count": 96,
   "metadata": {},
   "outputs": [
    {
     "ename": "SyntaxError",
     "evalue": "invalid token (<ipython-input-96-39e56b61ee59>, line 1)",
     "output_type": "error",
     "traceback": [
      "\u001b[0;36m  File \u001b[0;32m\"<ipython-input-96-39e56b61ee59>\"\u001b[0;36m, line \u001b[0;32m1\u001b[0m\n\u001b[0;31m    sense2vec.scripts.01_parse(in_file=\"data/reddit_submissions/filtered_submissions.txt\")\u001b[0m\n\u001b[0m                        ^\u001b[0m\n\u001b[0;31mSyntaxError\u001b[0m\u001b[0;31m:\u001b[0m invalid token\n"
     ]
    }
   ],
   "source": [
    "sense2vec.scripts.01_parse(in_file=\"data/reddit_submissions/filtered_submissions.txt\")"
   ]
  },
  {
   "cell_type": "code",
   "execution_count": 1,
   "metadata": {},
   "outputs": [],
   "source": [
    "from sense2vec import Sense2Vec\n",
    "s2v = Sense2Vec().from_disk(\"models/r01/vectors/s2v\")"
   ]
  },
  {
   "cell_type": "code",
   "execution_count": 2,
   "metadata": {},
   "outputs": [],
   "source": [
    "from sense2vec import Sense2Vec\n",
    "s2v = Sense2Vec().from_disk(\"models/r01/vectors/s2v\")\n",
    "most_similar = s2v.most_similar(\"SPY|NOUN\", n=10)"
   ]
  },
  {
   "cell_type": "code",
   "execution_count": 8,
   "metadata": {},
   "outputs": [
    {
     "data": {
      "text/plain": [
       "[('SPY|PROPN', 0.594),\n",
       " ('CALLS|VERB', 0.5686),\n",
       " ('4/17|CARDINAL', 0.4937),\n",
       " ('240p|NUM', 0.482),\n",
       " ('FREE|ADJ', 0.4815),\n",
       " ('SPY|ORG', 0.4604),\n",
       " ('QQQ|PROPN', 0.4433),\n",
       " ('4/17|NUM', 0.4408),\n",
       " ('MONEY|NOUN', 0.433),\n",
       " ('SPY|VERB', 0.429)]"
      ]
     },
     "execution_count": 8,
     "metadata": {},
     "output_type": "execute_result"
    }
   ],
   "source": [
    "# Most similar query\n",
    "s2v.most_similar(\"SPY|NOUN\", n=10)"
   ]
  },
  {
   "cell_type": "code",
   "execution_count": 10,
   "metadata": {},
   "outputs": [
    {
     "ename": "ValueError",
     "evalue": "Can't find key apple|SENSE in table",
     "output_type": "error",
     "traceback": [
      "\u001b[0;31m---------------------------------------------------------------------------\u001b[0m",
      "\u001b[0;31mValueError\u001b[0m                                Traceback (most recent call last)",
      "\u001b[0;32m<ipython-input-10-b0ba880f2192>\u001b[0m in \u001b[0;36m<module>\u001b[0;34m\u001b[0m\n\u001b[1;32m      1\u001b[0m \u001b[0;31m# Sense lookup\u001b[0m\u001b[0;34m\u001b[0m\u001b[0;34m\u001b[0m\u001b[0;34m\u001b[0m\u001b[0m\n\u001b[0;32m----> 2\u001b[0;31m \u001b[0ms2v\u001b[0m\u001b[0;34m.\u001b[0m\u001b[0mmost_similar\u001b[0m\u001b[0;34m(\u001b[0m\u001b[0;34m\"apple|SENSE\"\u001b[0m\u001b[0;34m,\u001b[0m \u001b[0mn\u001b[0m\u001b[0;34m=\u001b[0m\u001b[0;36m10\u001b[0m\u001b[0;34m)\u001b[0m\u001b[0;34m\u001b[0m\u001b[0;34m\u001b[0m\u001b[0m\n\u001b[0m",
      "\u001b[0;32m~/opt/anaconda3/envs/capstone/lib/python3.7/site-packages/sense2vec/sense2vec.py\u001b[0m in \u001b[0;36mmost_similar\u001b[0;34m(self, keys, n, batch_size)\u001b[0m\n\u001b[1;32m    212\u001b[0m         \u001b[0;32mfor\u001b[0m \u001b[0mkey\u001b[0m \u001b[0;32min\u001b[0m \u001b[0mkeys\u001b[0m\u001b[0;34m:\u001b[0m\u001b[0;34m\u001b[0m\u001b[0;34m\u001b[0m\u001b[0m\n\u001b[1;32m    213\u001b[0m             \u001b[0;32mif\u001b[0m \u001b[0mkey\u001b[0m \u001b[0;32mnot\u001b[0m \u001b[0;32min\u001b[0m \u001b[0mself\u001b[0m\u001b[0;34m:\u001b[0m\u001b[0;34m\u001b[0m\u001b[0;34m\u001b[0m\u001b[0m\n\u001b[0;32m--> 214\u001b[0;31m                 \u001b[0;32mraise\u001b[0m \u001b[0mValueError\u001b[0m\u001b[0;34m(\u001b[0m\u001b[0;34mf\"Can't find key {key} in table\"\u001b[0m\u001b[0;34m)\u001b[0m\u001b[0;34m\u001b[0m\u001b[0;34m\u001b[0m\u001b[0m\n\u001b[0m\u001b[1;32m    215\u001b[0m         \u001b[0;32mif\u001b[0m \u001b[0mself\u001b[0m\u001b[0;34m.\u001b[0m\u001b[0mcache\u001b[0m \u001b[0;32mand\u001b[0m \u001b[0mself\u001b[0m\u001b[0;34m.\u001b[0m\u001b[0mcache\u001b[0m\u001b[0;34m[\u001b[0m\u001b[0;34m\"indices\"\u001b[0m\u001b[0;34m]\u001b[0m\u001b[0;34m.\u001b[0m\u001b[0mshape\u001b[0m\u001b[0;34m[\u001b[0m\u001b[0;36m1\u001b[0m\u001b[0;34m]\u001b[0m \u001b[0;34m>=\u001b[0m \u001b[0mn\u001b[0m\u001b[0;34m:\u001b[0m\u001b[0;34m\u001b[0m\u001b[0;34m\u001b[0m\u001b[0m\n\u001b[1;32m    216\u001b[0m             \u001b[0mn\u001b[0m \u001b[0;34m=\u001b[0m \u001b[0mmin\u001b[0m\u001b[0;34m(\u001b[0m\u001b[0mlen\u001b[0m\u001b[0;34m(\u001b[0m\u001b[0mself\u001b[0m\u001b[0;34m.\u001b[0m\u001b[0mvectors\u001b[0m\u001b[0;34m)\u001b[0m\u001b[0;34m,\u001b[0m \u001b[0mn\u001b[0m\u001b[0;34m)\u001b[0m\u001b[0;34m\u001b[0m\u001b[0;34m\u001b[0m\u001b[0m\n",
      "\u001b[0;31mValueError\u001b[0m: Can't find key apple|SENSE in table"
     ]
    }
   ],
   "source": [
    "# Sense lookup\n",
    "s2v.most_similar(\"apple|SENSE\", n=10)"
   ]
  },
  {
   "cell_type": "code",
   "execution_count": 12,
   "metadata": {},
   "outputs": [
    {
     "data": {
      "text/plain": [
       "[('TSLA|ORG', 0.5329),\n",
       " ('TSLA|VERB', 0.4604),\n",
       " ('TRENDING|VERB', 0.4228),\n",
       " ('SPCE|NOUN', 0.4181),\n",
       " ('8/28|NUM', 0.4131),\n",
       " ('420|MONEY', 0.4076),\n",
       " ('ACTIVE|NOUN', 0.4062),\n",
       " ('TICKERS|NOUN', 0.4051),\n",
       " ('NIO|PROPN', 0.4014),\n",
       " ('AAPL|PROPN', 0.4003)]"
      ]
     },
     "execution_count": 12,
     "metadata": {},
     "output_type": "execute_result"
    }
   ],
   "source": [
    "s2v.most_similar(\"TSLA|PROPN\", n=10)"
   ]
  },
  {
   "cell_type": "code",
   "execution_count": 13,
   "metadata": {},
   "outputs": [
    {
     "data": {
      "text/plain": [
       "[('Apple|ORG', 0.5132),\n",
       " ('iphone|NOUN', 0.4995),\n",
       " ('apple|PROPN', 0.4786),\n",
       " ('microsoft|PROPN', 0.4372),\n",
       " ('amazon|NOUN', 0.4349),\n",
       " ('facebook|NOUN', 0.4164),\n",
       " ('iPhone|PROPN', 0.3996),\n",
       " ('amazon|PROPN', 0.3782),\n",
       " ('tesla|ADJ', 0.3757),\n",
       " ('MOVERS:######(**source|PROPN', 0.3748)]"
      ]
     },
     "execution_count": 13,
     "metadata": {},
     "output_type": "execute_result"
    }
   ],
   "source": [
    "s2v.most_similar(\"apple|NOUN\", n=10)"
   ]
  },
  {
   "cell_type": "code",
   "execution_count": 14,
   "metadata": {},
   "outputs": [
    {
     "data": {
      "text/plain": [
       "[('microsoft|PROPN', 0.5144),\n",
       " ('walmart|NOUN', 0.4979),\n",
       " ('amazon|PROPN', 0.4521),\n",
       " ('apple|NOUN', 0.4349),\n",
       " ('google|NOUN', 0.4267),\n",
       " ('04|NUM', 0.4179),\n",
       " ('intel|NOUN', 0.4165),\n",
       " ('articles/2018|NUM', 0.4147),\n",
       " ('articles/2019|ADJ', 0.4106),\n",
       " ('MOVERS:######(**source|PROPN', 0.4102)]"
      ]
     },
     "execution_count": 14,
     "metadata": {},
     "output_type": "execute_result"
    }
   ],
   "source": [
    "s2v.most_similar(\"amazon|NOUN\", n=10)"
   ]
  },
  {
   "cell_type": "code",
   "execution_count": null,
   "metadata": {},
   "outputs": [],
   "source": [
    "s2v.most_similar(\"SPY|NOUN\", n=10)"
   ]
  }
 ],
 "metadata": {
  "kernelspec": {
   "display_name": "Python 3",
   "language": "python",
   "name": "python3"
  },
  "language_info": {
   "codemirror_mode": {
    "name": "ipython",
    "version": 3
   },
   "file_extension": ".py",
   "mimetype": "text/x-python",
   "name": "python",
   "nbconvert_exporter": "python",
   "pygments_lexer": "ipython3",
   "version": "3.7.7"
  }
 },
 "nbformat": 4,
 "nbformat_minor": 4
}
