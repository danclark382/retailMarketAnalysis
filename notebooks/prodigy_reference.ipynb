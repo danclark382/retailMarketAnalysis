{
 "cells": [
  {
   "cell_type": "markdown",
   "metadata": {},
   "source": [
    "## Datasets"
   ]
  },
  {
   "cell_type": "markdown",
   "metadata": {},
   "source": [
    "### Import Dataset\n",
    "```bash\n",
    "# prodigy db-in new_dataset /path/to/data.jsonl\n",
    "prodigy db-in training models/r01/training.jsonl\n",
    "```\n"
   ]
  },
  {
   "cell_type": "markdown",
   "metadata": {},
   "source": [
    "### Drop Dataset\n",
    "```bash\n",
    "# prodigy drop dataset --batch-size\n",
    "prodigy drop tech_phrases\n",
    "```"
   ]
  },
  {
   "cell_type": "markdown",
   "source": [
    "### Database Stats\n",
    "### Print Prodigy and database statistics.\n",
    "```bash\n",
    "# prodigy stats dataset -l -ls --no-format\n",
    "prodigy drop tech_phrases\n",
    "```"
   ],
   "metadata": {
    "collapsed": false
   }
  },
  {
   "cell_type": "markdown",
   "metadata": {},
   "source": [
    "### Merge Datasets\n",
    "```bash\n",
    "# prodigy db-merge in_sets out_set --rehash --dry\n",
    "prodigy db-merge in_sets out_set\n",
    "\n",
    "```"
   ]
  },
  {
   "cell_type": "markdown",
   "metadata": {},
   "source": [
    "### Export Dataset\n",
    "```bash\n",
    "# prodigy terms.to-patterns dataset output_file --label --spacy-model --case-sensitive\n",
    "prodigy terms.to-patterns ticker_tags models/r01/tick_tag.jsonl --label TICKER --spacy-model en_core_web_sm --case-sensitive\n",
    "```"
   ]
  },
  {
   "cell_type": "markdown",
   "metadata": {},
   "source": [
    "### Export Dataset\n",
    "```bash\n",
    "# prodigy db-out dataset > output/path/data.jsonl\n",
    "prodigy db-out training > test.jsonl\n",
    "\n",
    "```"
   ]
  },
  {
   "cell_type": "markdown",
   "metadata": {},
   "source": [
    "### Create Training Data\n",
    "```bash\n",
    "# prodigy ner.manual dataset spacy_model source --loader --label --patterns --exclude --highlight-chars\n",
    "prodigy ner.manual r01_ner ner-r01 models/r01.jsonl --label TICKER,COMPANY --patterns models/r01/patterns.jsonl\n",
    "\n",
    "```"
   ]
  },
  {
   "cell_type": "markdown",
   "metadata": {},
   "source": [
    "## Sense2Vec"
   ]
  },
  {
   "cell_type": "markdown",
   "metadata": {},
   "source": [
    "### Create Patterns With Sense2Vec\n",
    "```bash\n",
    "# prodigy sense2vec.teach [dataset] [vectors_path] [--seeds] [--threshold] [--n-similar] [--batch-size] [--resume]\n",
    "prodigy sense2vec.teach ticker_tags models/r01/vectors --seeds IQ,F,GME,CCL\n",
    "\n",
    "```"
   ]
  },
  {
   "cell_type": "markdown",
   "metadata": {},
   "source": [
    "## Prodigy Training"
   ]
  },
  {
   "cell_type": "markdown",
   "metadata": {},
   "source": [
    "### ner.manual\n",
    "#### Mark entity spans in a text by highlighting them and selecting the respective labels.\n",
    "```bash\n",
    "# prodigy ner.manual dataset spacy_model source --loader --label --patterns --exclude --highlight-chars\n",
    "prodigy ner.manual r01_ner ner-r01 models/r01.jsonl --label TICKER,COMPANY --patterns models/r01/ticker_tags.jsonl\n",
    "```"
   ]
  },
  {
   "cell_type": "markdown",
   "metadata": {},
   "source": [
    "### ner.correct\n",
    "#### Create gold-standard data for NER by correcting the model’s suggestions.\n",
    "```bash\n",
    "# prodigy ner.correct dataset spacy_model source --loader --label --exclude --unsegmented\n",
    "prodigy ner.correct training models/run2 models/reddit_text.jsonl --label TICKER,COMPANY\n",
    "```"
   ]
  },
  {
   "cell_type": "markdown",
   "metadata": {},
   "source": [
    "### ner.teach\n",
    "#### Collect the best possible training data for a named entity recognition model with the model in the loop\n",
    "```bash\n",
    "# prodigy ner.teach dataset spacy_model source --loader --label --patterns --exclude --unsegmented\n",
    "prodigy ner.teach training ner-r01 models/r01.jsonl --label TICKER,COMPANY\n",
    "```"
   ]
  },
  {
   "cell_type": "markdown",
   "metadata": {},
   "source": [
    "### train\n",
    "#### Train a model component (NER, text classification, tagger or parser) using one or more Prodigy datasets with annotations.\n",
    "```bash\n",
    "# prodigy train component datasets spacy_model --init-tok2vec --output --eval-id --eval-split --n-iter --batch-size --dropout --factor --textcat-exclusive --ner-missing --binary --silent\n",
    "prodigy train ner training ner-r01 --output models/run1\n",
    "```"
   ]
  },
  {
   "cell_type": "markdown",
   "metadata": {},
   "source": [
    "### Rename Dataset\n",
    "#### Description\n",
    "```bash\n",
    "# prodigy Example\n",
    "prodigy db-out trainingdb /tmp\n",
    "prodigy db-in training /tmp/trainingdb.jsonl \"Some description\"\n",
    "prodigy drop trainingdb\n",
    "```"
   ]
  },
  {
   "cell_type": "markdown",
   "metadata": {},
   "source": [
    "### Example\n",
    "#### Description\n",
    "```bash\n",
    "# prodigy Example\n",
    "prodigy myExample\n",
    "```"
   ]
  },
  {
   "cell_type": "markdown",
   "metadata": {},
   "source": [
    "### Example\n",
    "#### Description\n",
    "```bash\n",
    "# prodigy Example\n",
    "prodigy myExample\n",
    "```"
   ]
  },
  {
   "cell_type": "markdown",
   "metadata": {},
   "source": [
    "### Example\n",
    "#### Description\n",
    "```bash\n",
    "# prodigy Example\n",
    "prodigy myExample\n",
    "```"
   ]
  },
  {
   "cell_type": "markdown",
   "metadata": {},
   "source": [
    "### Example\n",
    "#### Description\n",
    "```bash\n",
    "# prodigy Example\n",
    "prodigy myExample\n",
    "```"
   ]
  },
  {
   "cell_type": "markdown",
   "metadata": {},
   "source": [
    "### Example\n",
    "#### Description\n",
    "```bash\n",
    "# prodigy Example\n",
    "prodigy myExample\n",
    "```"
   ]
  },
  {
   "cell_type": "markdown",
   "metadata": {},
   "source": [
    "### Example\n",
    "#### Description\n",
    "```bash\n",
    "# prodigy Example\n",
    "prodigy myExample\n",
    "```"
   ]
  },
  {
   "cell_type": "markdown",
   "metadata": {},
   "source": [
    "### Example\n",
    "#### Description\n",
    "```bash\n",
    "# prodigy Example\n",
    "prodigy myExample\n",
    "```"
   ]
  },
  {
   "cell_type": "markdown",
   "metadata": {},
   "source": []
  }
 ],
 "metadata": {
  "kernelspec": {
   "display_name": "Python 3",
   "language": "python",
   "name": "python3"
  },
  "language_info": {
   "codemirror_mode": {
    "name": "ipython",
    "version": 3
   },
   "file_extension": ".py",
   "mimetype": "text/x-python",
   "name": "python",
   "nbconvert_exporter": "python",
   "pygments_lexer": "ipython3",
   "version": "3.7.7"
  }
 },
 "nbformat": 4,
 "nbformat_minor": 4
}